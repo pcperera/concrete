{
 "cells": [
  {
   "cell_type": "code",
   "execution_count": 97,
   "id": "7eb156bc",
   "metadata": {
    "scrolled": false
   },
   "outputs": [
    {
     "data": {
      "text/plain": "Index(['Cement (component 1)(kg in a m^3 mixture)',\n       'Blast Furnace Slag (component 2)(kg in a m^3 mixture)',\n       'Fly Ash (component 3)(kg in a m^3 mixture)',\n       'Water  (component 4)(kg in a m^3 mixture)',\n       'Superplasticizer (component 5)(kg in a m^3 mixture)',\n       'Coarse Aggregate  (component 6)(kg in a m^3 mixture)',\n       'Fine Aggregate (component 7)(kg in a m^3 mixture)', 'Age (day)',\n       'Concrete compressive strength(MPa, megapascals) '],\n      dtype='object')"
     },
     "execution_count": 97,
     "metadata": {},
     "output_type": "execute_result"
    }
   ],
   "source": [
    "from sklearn.metrics import mean_absolute_error, mean_squared_error, r2_score, explained_variance_score, mean_absolute_percentage_error, mean_squared_log_error\n",
    "from sklearn.linear_model import LogisticRegression\n",
    "from sklearn.tree import DecisionTreeRegressor\n",
    "from sklearn.model_selection import train_test_split\n",
    "from sklearn.linear_model import LinearRegression\n",
    "import numpy as np\n",
    "import pandas as pd\n",
    "\n",
    "df_raw = pd.read_csv('data/Concrete_Data.csv')\n",
    "df_raw.columns\n",
    "\n"
   ]
  },
  {
   "cell_type": "code",
   "execution_count": 98,
   "outputs": [],
   "source": [
    "# Select all independent variables.\n",
    "X = df_raw.iloc[:, :-1]\n",
    "# Select only the target variable.\n",
    "y = df_raw.iloc[:, -1]\n",
    "\n",
    "X_train, X_test, y_train, y_test = train_test_split(X, y,\n",
    "                                                   test_size= 0.2,\n",
    "                                                   shuffle= True, # Shuffle the data to avoid bias\n",
    "                                                   random_state= 50)"
   ],
   "metadata": {
    "collapsed": false
   }
  },
  {
   "cell_type": "markdown",
   "source": [
    "# Multiple Linear Regression"
   ],
   "metadata": {
    "collapsed": false
   }
  },
  {
   "cell_type": "code",
   "execution_count": 99,
   "outputs": [
    {
     "data": {
      "text/plain": "LinearRegression()"
     },
     "execution_count": 99,
     "metadata": {},
     "output_type": "execute_result"
    }
   ],
   "source": [
    "mlr_model = LinearRegression()\n",
    "mlr_model.fit(X_train, y_train)"
   ],
   "metadata": {
    "collapsed": false
   }
  },
  {
   "cell_type": "code",
   "execution_count": 100,
   "outputs": [
    {
     "name": "stdout",
     "output_type": "stream",
     "text": [
      "Mean Absolute Error 7.9100408151230575\n",
      "Mean Absolute Percentage Error 0.3338653542629698\n",
      "Mean Squared Error 98.115811061572\n",
      "Mean Squared Log Error 0.12016603228350434\n",
      "Root Mean Squared Error 9.905342551450303\n",
      "Explained Variance Score 0.6360416556439641\n",
      "R Squared Score 0.6359646484072214\n"
     ]
    }
   ],
   "source": [
    "mlr_y_predicted =  mlr_model.predict(X_test)\n",
    "\n",
    "# Mean Absolute Error\n",
    "mlr_metric_mae = mean_absolute_error(y_test, mlr_y_predicted)\n",
    "print(f'Mean Absolute Error {mlr_metric_mae}')\n",
    "\n",
    "# Mean Absolute Percentage Error\n",
    "mlr_metric_mape = mean_absolute_percentage_error(y_test, mlr_y_predicted)\n",
    "print(f'Mean Absolute Percentage Error {mlr_metric_mape}')\n",
    "\n",
    "# Mean Squared Error\n",
    "mlr_metric_mse = mean_squared_error(y_test, mlr_y_predicted)\n",
    "print(f'Mean Squared Error {mlr_metric_mse}')\n",
    "\n",
    "# Mean Squared Log Error\n",
    "mlr_metric_msle = mean_squared_log_error(y_test, mlr_y_predicted)\n",
    "print(f'Mean Squared Log Error {mlr_metric_msle}')\n",
    "\n",
    "# Root Mean Squared Error\n",
    "mlr_metric_rmse = np.sqrt(mean_squared_error(y_test, mlr_y_predicted))\n",
    "print(f'Root Mean Squared Error {mlr_metric_rmse}')\n",
    "\n",
    "# Explained Variance Score\n",
    "mlr_metric_evs = explained_variance_score(y_test, mlr_y_predicted)\n",
    "print(f'Explained Variance Score {mlr_metric_evs}')\n",
    "\n",
    "# R2 score\n",
    "mlr_metric_r2 = r2_score(y_test, mlr_y_predicted)\n",
    "print(f'R Squared Score {mlr_metric_r2}')\n"
   ],
   "metadata": {
    "collapsed": false
   }
  },
  {
   "cell_type": "markdown",
   "source": [],
   "metadata": {
    "collapsed": false
   }
  },
  {
   "cell_type": "code",
   "execution_count": 101,
   "outputs": [
    {
     "name": "stdout",
     "output_type": "stream",
     "text": [
      "-8.588336120681141\n",
      "[ 0.11435239  0.09812924  0.07706773 -0.16950172  0.31739452  0.01450578\n",
      "  0.01343895  0.11158763]\n"
     ]
    }
   ],
   "source": [
    "print(mlr_model.intercept_)\n",
    "print(mlr_model.coef_)"
   ],
   "metadata": {
    "collapsed": false
   }
  },
  {
   "cell_type": "markdown",
   "source": [
    "# Regression Tree (Decision Tree Regression)"
   ],
   "metadata": {
    "collapsed": false
   }
  },
  {
   "cell_type": "code",
   "execution_count": 102,
   "outputs": [
    {
     "data": {
      "text/plain": "DecisionTreeRegressor(max_depth=10, min_samples_leaf=3)"
     },
     "execution_count": 102,
     "metadata": {},
     "output_type": "execute_result"
    }
   ],
   "source": [
    "regression_model = DecisionTreeRegressor(criterion=\"squared_error\", min_samples_leaf=3, max_depth=10)\n",
    "regression_model.fit(X_train, y_train)"
   ],
   "metadata": {
    "collapsed": false
   }
  },
  {
   "cell_type": "code",
   "execution_count": 103,
   "outputs": [
    {
     "name": "stdout",
     "output_type": "stream",
     "text": [
      "Mean Absolute Error 5.144296760581774\n",
      "Mean Absolute Percentage Error 0.1887846259289491\n",
      "Mean Squared Error 46.72217407859316\n",
      "Mean Squared Log Error 0.05444350502881591\n",
      "Root Mean Squared Error 6.83536202981182\n",
      "Explained Variance Score 0.8272173269313471\n",
      "R Squared Score 0.8266484995246478\n"
     ]
    }
   ],
   "source": [
    "rt_y_predicted = regression_model.predict(X_test)\n",
    "\n",
    "# Mean Absolute Error\n",
    "rt_metric_mae = mean_absolute_error(y_test, rt_y_predicted)\n",
    "print(f'Mean Absolute Error {rt_metric_mae}')\n",
    "\n",
    "# Mean Absolute Percentage Error\n",
    "rt_metric_mape = mean_absolute_percentage_error(y_test, rt_y_predicted)\n",
    "print(f'Mean Absolute Percentage Error {rt_metric_mape}')\n",
    "\n",
    "# Mean Squared Error\n",
    "rt_metric_mse = mean_squared_error(y_test, rt_y_predicted)\n",
    "print(f'Mean Squared Error {rt_metric_mse}')\n",
    "\n",
    "# Mean Squared Log Error\n",
    "rt_metric_msle = mean_squared_log_error(y_test, rt_y_predicted)\n",
    "print(f'Mean Squared Log Error {rt_metric_msle}')\n",
    "\n",
    "# Root Mean Squared Error\n",
    "rt_metric_rmse = np.sqrt(mean_squared_error(y_test, rt_y_predicted))\n",
    "print(f'Root Mean Squared Error {rt_metric_rmse}')\n",
    "\n",
    "# Explained Variance Score\n",
    "rt_metric_evs = explained_variance_score(y_test, rt_y_predicted)\n",
    "print(f'Explained Variance Score {rt_metric_evs}')\n",
    "\n",
    "# R2 score\n",
    "rt_metric_r2 = r2_score(y_test, rt_y_predicted)\n",
    "print(f'R Squared Score {rt_metric_r2}')\n"
   ],
   "metadata": {
    "collapsed": false
   }
  },
  {
   "cell_type": "code",
   "execution_count": 104,
   "outputs": [
    {
     "name": "stdout",
     "output_type": "stream",
     "text": [
      "                                Multiple Linear Regression  Regression Trees\n",
      "Mean Absolute Error                               7.910041          5.144297\n",
      "Mean Absolute Percentage Error                    0.333865          0.188785\n",
      "Mean Squared Error                               98.115811         46.722174\n",
      "Mean Squared Log Error                            0.120166          0.054444\n",
      "Root Mean Squared Error                           9.905343          6.835362\n",
      "Explained Variance Score                          0.636042          0.827217\n",
      "R Squared Score                                   0.635965          0.826648\n"
     ]
    }
   ],
   "source": [
    "results = { 'Multiple Linear Regression': [ mlr_metric_mae, mlr_metric_mape, mlr_metric_mse, mlr_metric_msle, mlr_metric_rmse, mlr_metric_evs, mlr_metric_r2],\n",
    "            'Regression Trees': [ rt_metric_mae,  rt_metric_mape, rt_metric_mse, rt_metric_msle, rt_metric_rmse, rt_metric_evs, rt_metric_r2 ]}\n",
    "\n",
    "results_df = pd.DataFrame(results).set_axis(['Mean Absolute Error', 'Mean Absolute Percentage Error', 'Mean Squared Error',  'Mean Squared Log Error' , 'Root Mean Squared Error', 'Explained Variance Score', 'R Squared Score'])\n",
    "\n",
    "print(results_df)"
   ],
   "metadata": {
    "collapsed": false
   }
  }
 ],
 "metadata": {
  "kernelspec": {
   "display_name": "Python 3 (ipykernel)",
   "language": "python",
   "name": "python3"
  },
  "language_info": {
   "codemirror_mode": {
    "name": "ipython",
    "version": 3
   },
   "file_extension": ".py",
   "mimetype": "text/x-python",
   "name": "python",
   "nbconvert_exporter": "python",
   "pygments_lexer": "ipython3",
   "version": "3.9.13"
  }
 },
 "nbformat": 4,
 "nbformat_minor": 5
}
