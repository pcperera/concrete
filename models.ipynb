{
 "cells": [
  {
   "cell_type": "code",
   "execution_count": 183,
   "id": "7eb156bc",
   "metadata": {
    "scrolled": false
   },
   "outputs": [
    {
     "data": {
      "text/plain": "Index(['Cement (component 1)(kg in a m^3 mixture)',\n       'Blast Furnace Slag (component 2)(kg in a m^3 mixture)',\n       'Fly Ash (component 3)(kg in a m^3 mixture)',\n       'Water  (component 4)(kg in a m^3 mixture)',\n       'Superplasticizer (component 5)(kg in a m^3 mixture)',\n       'Coarse Aggregate  (component 6)(kg in a m^3 mixture)',\n       'Fine Aggregate (component 7)(kg in a m^3 mixture)', 'Age (day)',\n       'Concrete compressive strength(MPa, megapascals) '],\n      dtype='object')"
     },
     "execution_count": 183,
     "metadata": {},
     "output_type": "execute_result"
    }
   ],
   "source": [
    "from sklearn.metrics import mean_absolute_error, mean_squared_error, r2_score, explained_variance_score, mean_absolute_percentage_error, mean_squared_log_error\n",
    "from sklearn.linear_model import LinearRegression\n",
    "from sklearn.neighbors import KNeighborsRegressor\n",
    "from sklearn.tree import DecisionTreeRegressor\n",
    "from sklearn.model_selection import train_test_split\n",
    "import numpy as np\n",
    "import pandas as pd\n",
    "\n",
    "df_raw = pd.read_csv('data/Concrete_Data.csv')\n",
    "df_raw.columns\n",
    "\n"
   ]
  },
  {
   "cell_type": "code",
   "execution_count": 184,
   "outputs": [],
   "source": [
    "# Select all independent variables.\n",
    "X = df_raw.iloc[:, :-1]\n",
    "# Select only the target variable.\n",
    "y = df_raw.iloc[:, -1]\n",
    "\n",
    "X_train, X_test, y_train, y_test = train_test_split(X, y,\n",
    "                                                   test_size= 0.2,\n",
    "                                                   shuffle= True, # Shuffle the data to avoid bias\n",
    "                                                   random_state= 50)"
   ],
   "metadata": {
    "collapsed": false
   }
  },
  {
   "cell_type": "markdown",
   "source": [
    "# Multiple Linear Regression"
   ],
   "metadata": {
    "collapsed": false
   }
  },
  {
   "cell_type": "code",
   "execution_count": 185,
   "outputs": [
    {
     "data": {
      "text/plain": "LinearRegression()"
     },
     "execution_count": 185,
     "metadata": {},
     "output_type": "execute_result"
    }
   ],
   "source": [
    "mlr_model = LinearRegression()\n",
    "mlr_model.fit(X_train, y_train)"
   ],
   "metadata": {
    "collapsed": false
   }
  },
  {
   "cell_type": "code",
   "execution_count": 186,
   "outputs": [
    {
     "name": "stdout",
     "output_type": "stream",
     "text": [
      "Mean Absolute Error 7.9100408151230575\n",
      "Mean Absolute Percentage Error 0.3338653542629698\n",
      "Mean Squared Error 98.115811061572\n",
      "Mean Squared Log Error 0.12016603228350434\n",
      "Root Mean Squared Error 9.905342551450303\n",
      "Explained Variance Score 0.6360416556439641\n",
      "R Squared Score 0.6359646484072214\n"
     ]
    }
   ],
   "source": [
    "mlr_y_predicted =  mlr_model.predict(X_test)\n",
    "\n",
    "# Mean Absolute Error\n",
    "mlr_metric_mae = mean_absolute_error(y_test, mlr_y_predicted)\n",
    "print(f'Mean Absolute Error {mlr_metric_mae}')\n",
    "\n",
    "# Mean Absolute Percentage Error\n",
    "mlr_metric_mape = mean_absolute_percentage_error(y_test, mlr_y_predicted)\n",
    "print(f'Mean Absolute Percentage Error {mlr_metric_mape}')\n",
    "\n",
    "# Mean Squared Error\n",
    "mlr_metric_mse = mean_squared_error(y_test, mlr_y_predicted)\n",
    "print(f'Mean Squared Error {mlr_metric_mse}')\n",
    "\n",
    "# Mean Squared Log Error\n",
    "mlr_metric_msle = mean_squared_log_error(y_test, mlr_y_predicted)\n",
    "print(f'Mean Squared Log Error {mlr_metric_msle}')\n",
    "\n",
    "# Root Mean Squared Error\n",
    "mlr_metric_rmse = np.sqrt(mean_squared_error(y_test, mlr_y_predicted))\n",
    "print(f'Root Mean Squared Error {mlr_metric_rmse}')\n",
    "\n",
    "# Explained Variance Score\n",
    "mlr_metric_evs = explained_variance_score(y_test, mlr_y_predicted)\n",
    "print(f'Explained Variance Score {mlr_metric_evs}')\n",
    "\n",
    "# R2 score\n",
    "mlr_metric_r2 = r2_score(y_test, mlr_y_predicted)\n",
    "print(f'R Squared Score {mlr_metric_r2}')\n"
   ],
   "metadata": {
    "collapsed": false
   }
  },
  {
   "cell_type": "markdown",
   "source": [],
   "metadata": {
    "collapsed": false
   }
  },
  {
   "cell_type": "code",
   "execution_count": 187,
   "outputs": [
    {
     "name": "stdout",
     "output_type": "stream",
     "text": [
      "-8.588336120681141\n",
      "[ 0.11435239  0.09812924  0.07706773 -0.16950172  0.31739452  0.01450578\n",
      "  0.01343895  0.11158763]\n"
     ]
    }
   ],
   "source": [
    "print(mlr_model.intercept_)\n",
    "print(mlr_model.coef_)"
   ],
   "metadata": {
    "collapsed": false
   }
  },
  {
   "cell_type": "markdown",
   "source": [
    "# Decision Tree Regression (Regression Tree)"
   ],
   "metadata": {
    "collapsed": false
   }
  },
  {
   "cell_type": "code",
   "execution_count": 188,
   "outputs": [
    {
     "data": {
      "text/plain": "DecisionTreeRegressor(max_depth=10, min_samples_leaf=3)"
     },
     "execution_count": 188,
     "metadata": {},
     "output_type": "execute_result"
    }
   ],
   "source": [
    "regression_model = DecisionTreeRegressor(criterion=\"squared_error\", min_samples_leaf=3, max_depth=10)\n",
    "regression_model.fit(X_train, y_train)"
   ],
   "metadata": {
    "collapsed": false
   }
  },
  {
   "cell_type": "code",
   "execution_count": 189,
   "outputs": [
    {
     "name": "stdout",
     "output_type": "stream",
     "text": [
      "Mean Absolute Error 5.139526534044557\n",
      "Mean Absolute Percentage Error 0.18768171867188754\n",
      "Mean Squared Error 46.72907642729865\n",
      "Mean Squared Log Error 0.05418031535021842\n",
      "Root Mean Squared Error 6.835866911175104\n",
      "Explained Variance Score 0.8276124326127476\n",
      "R Squared Score 0.8266228900035051\n"
     ]
    }
   ],
   "source": [
    "dtr_y_predicted = regression_model.predict(X_test)\n",
    "\n",
    "# Mean Absolute Error\n",
    "dtr_metric_mae = mean_absolute_error(y_test, dtr_y_predicted)\n",
    "print(f'Mean Absolute Error {dtr_metric_mae}')\n",
    "\n",
    "# Mean Absolute Percentage Error\n",
    "dtr_metric_mape = mean_absolute_percentage_error(y_test, dtr_y_predicted)\n",
    "print(f'Mean Absolute Percentage Error {dtr_metric_mape}')\n",
    "\n",
    "# Mean Squared Error\n",
    "dtr_metric_mse = mean_squared_error(y_test, dtr_y_predicted)\n",
    "print(f'Mean Squared Error {dtr_metric_mse}')\n",
    "\n",
    "# Mean Squared Log Error\n",
    "dtr_metric_msle = mean_squared_log_error(y_test, dtr_y_predicted)\n",
    "print(f'Mean Squared Log Error {dtr_metric_msle}')\n",
    "\n",
    "# Root Mean Squared Error\n",
    "dtr_metric_rmse = np.sqrt(mean_squared_error(y_test, dtr_y_predicted))\n",
    "print(f'Root Mean Squared Error {dtr_metric_rmse}')\n",
    "\n",
    "# Explained Variance Score\n",
    "dtr_metric_evs = explained_variance_score(y_test, dtr_y_predicted)\n",
    "print(f'Explained Variance Score {dtr_metric_evs}')\n",
    "\n",
    "# R2 score\n",
    "dtr_metric_r2 = r2_score(y_test, dtr_y_predicted)\n",
    "print(f'R Squared Score {dtr_metric_r2}')\n"
   ],
   "metadata": {
    "collapsed": false
   }
  },
  {
   "cell_type": "markdown",
   "source": [
    "#  K-Nearest Neighbors (KNN)"
   ],
   "metadata": {
    "collapsed": false
   }
  },
  {
   "cell_type": "code",
   "execution_count": 190,
   "outputs": [
    {
     "data": {
      "text/plain": "KNeighborsRegressor()"
     },
     "execution_count": 190,
     "metadata": {},
     "output_type": "execute_result"
    }
   ],
   "source": [
    "# Create a KNN regression model with k=5\n",
    "knn = KNeighborsRegressor(n_neighbors=5)\n",
    "\n",
    "# Fit the model on the training data\n",
    "knn.fit(X_train, y_train)\n",
    "\n"
   ],
   "metadata": {
    "collapsed": false
   }
  },
  {
   "cell_type": "code",
   "execution_count": 191,
   "outputs": [
    {
     "name": "stdout",
     "output_type": "stream",
     "text": [
      "Mean Absolute Error 6.636009708737864\n",
      "Mean Absolute Percentage Error 0.28334725091669005\n",
      "Mean Squared Error 79.14396293203883\n",
      "Mean Squared Log Error 0.10386696128789864\n",
      "Root Mean Squared Error 8.896289278797022\n",
      "Explained Variance Score 0.7141231271268944\n",
      "R Squared Score 0.7063551729258979\n"
     ]
    }
   ],
   "source": [
    "knn_y_predicted = knn.predict(X_test)\n",
    "\n",
    "# Mean Absolute Error\n",
    "knn_metric_mae = mean_absolute_error(y_test, knn_y_predicted)\n",
    "print(f'Mean Absolute Error {knn_metric_mae}')\n",
    "\n",
    "# Mean Absolute Percentage Error\n",
    "knn_metric_mape = mean_absolute_percentage_error(y_test, knn_y_predicted)\n",
    "print(f'Mean Absolute Percentage Error {knn_metric_mape}')\n",
    "\n",
    "# Mean Squared Error\n",
    "knn_metric_mse = mean_squared_error(y_test, knn_y_predicted)\n",
    "print(f'Mean Squared Error {knn_metric_mse}')\n",
    "\n",
    "# Mean Squared Log Error\n",
    "knn_metric_msle = mean_squared_log_error(y_test, knn_y_predicted)\n",
    "print(f'Mean Squared Log Error {knn_metric_msle}')\n",
    "\n",
    "# Root Mean Squared Error\n",
    "knn_metric_rmse = np.sqrt(mean_squared_error(y_test, knn_y_predicted))\n",
    "print(f'Root Mean Squared Error {knn_metric_rmse}')\n",
    "\n",
    "# Explained Variance Score\n",
    "knn_metric_evs = explained_variance_score(y_test, knn_y_predicted)\n",
    "print(f'Explained Variance Score {knn_metric_evs}')\n",
    "\n",
    "# R2 score\n",
    "knn_metric_r2 = r2_score(y_test, knn_y_predicted)\n",
    "print(f'R Squared Score {knn_metric_r2}')"
   ],
   "metadata": {
    "collapsed": false
   }
  },
  {
   "cell_type": "code",
   "execution_count": 192,
   "outputs": [
    {
     "name": "stdout",
     "output_type": "stream",
     "text": [
      "                                      MLR        DTR        KNN\n",
      "Mean Absolute Error              7.910041   5.139527   6.636010\n",
      "Mean Absolute Percentage Error   0.333865   0.187682   0.283347\n",
      "Mean Squared Error              98.115811  46.729076  79.143963\n",
      "Mean Squared Log Error           0.120166   0.054180   0.103867\n",
      "Root Mean Squared Error          9.905343   6.835867   8.896289\n",
      "Explained Variance Score         0.636042   0.827612   0.714123\n",
      "R Squared Score                  0.635965   0.826623   0.706355\n"
     ]
    }
   ],
   "source": [
    "results = {\n",
    "    'MLR': [mlr_metric_mae, mlr_metric_mape, mlr_metric_mse, mlr_metric_msle, mlr_metric_rmse, mlr_metric_evs, mlr_metric_r2],\n",
    "    'DTR': [dtr_metric_mae, dtr_metric_mape, dtr_metric_mse, dtr_metric_msle, dtr_metric_rmse, dtr_metric_evs, dtr_metric_r2],\n",
    "    'KNN': [knn_metric_mae, knn_metric_mape, knn_metric_mse, knn_metric_msle, knn_metric_rmse, knn_metric_evs, knn_metric_r2]}\n",
    "\n",
    "results_df = pd.DataFrame(results).set_axis(\n",
    "    ['Mean Absolute Error', 'Mean Absolute Percentage Error', 'Mean Squared Error', 'Mean Squared Log Error',\n",
    "     'Root Mean Squared Error', 'Explained Variance Score', 'R Squared Score'])\n",
    "\n",
    "print(results_df)"
   ],
   "metadata": {
    "collapsed": false
   }
  }
 ],
 "metadata": {
  "kernelspec": {
   "display_name": "Python 3 (ipykernel)",
   "language": "python",
   "name": "python3"
  },
  "language_info": {
   "codemirror_mode": {
    "name": "ipython",
    "version": 3
   },
   "file_extension": ".py",
   "mimetype": "text/x-python",
   "name": "python",
   "nbconvert_exporter": "python",
   "pygments_lexer": "ipython3",
   "version": "3.9.13"
  }
 },
 "nbformat": 4,
 "nbformat_minor": 5
}
