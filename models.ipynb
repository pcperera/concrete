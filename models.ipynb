{
 "cells": [
  {
   "cell_type": "code",
   "execution_count": 43,
   "id": "7eb156bc",
   "metadata": {
    "scrolled": false
   },
   "outputs": [
    {
     "data": {
      "text/plain": "Index(['Cement (component 1)(kg in a m^3 mixture)',\n       'Blast Furnace Slag (component 2)(kg in a m^3 mixture)',\n       'Fly Ash (component 3)(kg in a m^3 mixture)',\n       'Water  (component 4)(kg in a m^3 mixture)',\n       'Superplasticizer (component 5)(kg in a m^3 mixture)',\n       'Coarse Aggregate  (component 6)(kg in a m^3 mixture)',\n       'Fine Aggregate (component 7)(kg in a m^3 mixture)', 'Age (day)',\n       'Concrete compressive strength(MPa, megapascals) '],\n      dtype='object')"
     },
     "execution_count": 43,
     "metadata": {},
     "output_type": "execute_result"
    }
   ],
   "source": [
    "from sklearn.metrics import mean_absolute_error, mean_squared_error, r2_score, explained_variance_score, mean_absolute_percentage_error, mean_squared_log_error\n",
    "from sklearn.linear_model import LogisticRegression\n",
    "from sklearn.tree import DecisionTreeRegressor\n",
    "from sklearn.model_selection import train_test_split\n",
    "from sklearn.linear_model import LinearRegression\n",
    "import numpy as np\n",
    "import pandas as pd\n",
    "\n",
    "df_raw = pd.read_csv('data/Concrete_Data.csv')\n",
    "df_raw.columns\n",
    "\n"
   ]
  },
  {
   "cell_type": "code",
   "execution_count": 44,
   "outputs": [],
   "source": [
    "# Select all independent variables.\n",
    "X = df_raw.iloc[:, :-1]\n",
    "# Select only the target variable.\n",
    "y = df_raw.iloc[:, -1]\n",
    "\n",
    "X_train, X_test, y_train, y_test = train_test_split(X, y,\n",
    "                                                   test_size= 0.2,\n",
    "                                                   shuffle= True, # Shuffle the data to avoid bias\n",
    "                                                   random_state= 50)"
   ],
   "metadata": {
    "collapsed": false
   }
  },
  {
   "cell_type": "markdown",
   "source": [
    "# Multiple Linear Regression"
   ],
   "metadata": {
    "collapsed": false
   }
  },
  {
   "cell_type": "code",
   "execution_count": 45,
   "outputs": [
    {
     "data": {
      "text/plain": "LinearRegression()"
     },
     "execution_count": 45,
     "metadata": {},
     "output_type": "execute_result"
    }
   ],
   "source": [
    "mlr_model = LinearRegression()\n",
    "mlr_model.fit(X_train, y_train)"
   ],
   "metadata": {
    "collapsed": false
   }
  },
  {
   "cell_type": "code",
   "execution_count": 46,
   "outputs": [
    {
     "name": "stdout",
     "output_type": "stream",
     "text": [
      "Mean Absolute Error 7.9100408151230575\n",
      "Root Mean Squared Error 9.905342551450303\n",
      "Explained Variance Score 0.6360416556439641\n",
      "R2 Score 0.6359646484072214\n",
      "Mean Absolute Percentage Error 0.3338653542629698\n",
      "Mean Squared Log Error 0.12016603228350434\n"
     ]
    }
   ],
   "source": [
    "mlr_y_predicted =  mlr_model.predict(X_test)\n",
    "\n",
    "# Mean Absolute Error\n",
    "metric = mean_absolute_error(y_test, mlr_y_predicted)\n",
    "print(f'Mean Absolute Error {metric}')\n",
    "\n",
    "# Root Mean Squared Error\n",
    "metric = np.sqrt(mean_squared_error(y_test, mlr_y_predicted))\n",
    "print(f'Root Mean Squared Error {metric}')\n",
    "\n",
    "# Explained Variance Score\n",
    "metric = explained_variance_score(y_test, mlr_y_predicted)\n",
    "print(f'Explained Variance Score {metric}')\n",
    "\n",
    "# R2 score\n",
    "metric = r2_score(y_test, mlr_y_predicted)\n",
    "print(f'R2 Score {metric}')\n",
    "\n",
    "# Mean Absolute Percentage Error\n",
    "metric = mean_absolute_percentage_error(y_test, mlr_y_predicted)\n",
    "print(f'Mean Absolute Percentage Error {metric}')\n",
    "\n",
    "# Mean Squared Log Error\n",
    "metric = mean_squared_log_error(y_test, mlr_y_predicted)\n",
    "print(f'Mean Squared Log Error {metric}')"
   ],
   "metadata": {
    "collapsed": false
   }
  },
  {
   "cell_type": "markdown",
   "source": [],
   "metadata": {
    "collapsed": false
   }
  },
  {
   "cell_type": "code",
   "execution_count": 47,
   "outputs": [
    {
     "name": "stdout",
     "output_type": "stream",
     "text": [
      "-8.588336120681141\n",
      "[ 0.11435239  0.09812924  0.07706773 -0.16950172  0.31739452  0.01450578\n",
      "  0.01343895  0.11158763]\n"
     ]
    }
   ],
   "source": [
    "print(mlr_model.intercept_)\n",
    "print(mlr_model.coef_)"
   ],
   "metadata": {
    "collapsed": false
   }
  },
  {
   "cell_type": "markdown",
   "source": [
    "# Regression Tree (Decision Tree Regression)"
   ],
   "metadata": {
    "collapsed": false
   }
  },
  {
   "cell_type": "code",
   "execution_count": 48,
   "outputs": [
    {
     "data": {
      "text/plain": "DecisionTreeRegressor(max_depth=10, min_samples_leaf=3)"
     },
     "execution_count": 48,
     "metadata": {},
     "output_type": "execute_result"
    }
   ],
   "source": [
    "regression_model = DecisionTreeRegressor(criterion=\"squared_error\", min_samples_leaf=3, max_depth=10)\n",
    "regression_model.fit(X_train, y_train)"
   ],
   "metadata": {
    "collapsed": false
   }
  },
  {
   "cell_type": "code",
   "execution_count": 49,
   "outputs": [
    {
     "name": "stdout",
     "output_type": "stream",
     "text": [
      "Mean Absolute Error 7.9100408151230575\n",
      "Root Mean Squared Error 9.905342551450303\n",
      "Explained Variance Score 0.6360416556439641\n",
      "R2 Score 0.6359646484072214\n",
      "Mean Absolute Percentage Error 0.3338653542629698\n",
      "Mean Squared Log Error 0.12016603228350434\n"
     ]
    }
   ],
   "source": [
    "y_predicted = regression_model.predict(X_test)\n",
    "\n",
    "# Mean Absolute Error\n",
    "metric = mean_absolute_error(y_test, mlr_y_predicted)\n",
    "print(f'Mean Absolute Error {metric}')\n",
    "\n",
    "# Root Mean Squared Error\n",
    "metric = np.sqrt(mean_squared_error(y_test, mlr_y_predicted))\n",
    "print(f'Root Mean Squared Error {metric}')\n",
    "\n",
    "# Explained Variance Score\n",
    "metric = explained_variance_score(y_test, mlr_y_predicted)\n",
    "print(f'Explained Variance Score {metric}')\n",
    "\n",
    "# R2 score\n",
    "metric = r2_score(y_test, mlr_y_predicted)\n",
    "print(f'R2 Score {metric}')\n",
    "\n",
    "# Mean Absolute Percentage Error\n",
    "metric = mean_absolute_percentage_error(y_test, mlr_y_predicted)\n",
    "print(f'Mean Absolute Percentage Error {metric}')\n",
    "\n",
    "# Mean Squared Log Error\n",
    "metric = mean_squared_log_error(y_test, mlr_y_predicted)\n",
    "print(f'Mean Squared Log Error {metric}')"
   ],
   "metadata": {
    "collapsed": false
   }
  }
 ],
 "metadata": {
  "kernelspec": {
   "display_name": "Python 3 (ipykernel)",
   "language": "python",
   "name": "python3"
  },
  "language_info": {
   "codemirror_mode": {
    "name": "ipython",
    "version": 3
   },
   "file_extension": ".py",
   "mimetype": "text/x-python",
   "name": "python",
   "nbconvert_exporter": "python",
   "pygments_lexer": "ipython3",
   "version": "3.9.13"
  }
 },
 "nbformat": 4,
 "nbformat_minor": 5
}
