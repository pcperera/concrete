{
 "cells": [
  {
   "cell_type": "code",
   "execution_count": 6,
   "id": "7eb156bc",
   "metadata": {
    "scrolled": false
   },
   "outputs": [
    {
     "name": "stdout",
     "output_type": "stream",
     "text": [
      "<class 'pandas.core.frame.DataFrame'>\n",
      "RangeIndex: 1030 entries, 0 to 1029\n",
      "Data columns (total 9 columns):\n",
      " #   Column                                                 Non-Null Count  Dtype  \n",
      "---  ------                                                 --------------  -----  \n",
      " 0   Cement (component 1)(kg in a m^3 mixture)              1030 non-null   float64\n",
      " 1   Blast Furnace Slag (component 2)(kg in a m^3 mixture)  1030 non-null   float64\n",
      " 2   Fly Ash (component 3)(kg in a m^3 mixture)             1030 non-null   float64\n",
      " 3   Water  (component 4)(kg in a m^3 mixture)              1030 non-null   float64\n",
      " 4   Superplasticizer (component 5)(kg in a m^3 mixture)    1030 non-null   float64\n",
      " 5   Coarse Aggregate  (component 6)(kg in a m^3 mixture)   1030 non-null   float64\n",
      " 6   Fine Aggregate (component 7)(kg in a m^3 mixture)      1030 non-null   float64\n",
      " 7   Age (day)                                              1030 non-null   int64  \n",
      " 8   Concrete compressive strength(MPa, megapascals)        1030 non-null   float64\n",
      "dtypes: float64(8), int64(1)\n",
      "memory usage: 72.5 KB\n"
     ]
    },
    {
     "data": {
      "text/plain": "       Cement (component 1)(kg in a m^3 mixture)  \\\ncount                                1030.000000   \nmean                                  281.167864   \nstd                                   104.506364   \nmin                                   102.000000   \n25%                                   192.375000   \n50%                                   272.900000   \n75%                                   350.000000   \nmax                                   540.000000   \n\n       Blast Furnace Slag (component 2)(kg in a m^3 mixture)  \\\ncount                                        1030.000000       \nmean                                           73.895825       \nstd                                            86.279342       \nmin                                             0.000000       \n25%                                             0.000000       \n50%                                            22.000000       \n75%                                           142.950000       \nmax                                           359.400000       \n\n       Fly Ash (component 3)(kg in a m^3 mixture)  \\\ncount                                 1030.000000   \nmean                                    54.188350   \nstd                                     63.997004   \nmin                                      0.000000   \n25%                                      0.000000   \n50%                                      0.000000   \n75%                                    118.300000   \nmax                                    200.100000   \n\n       Water  (component 4)(kg in a m^3 mixture)  \\\ncount                                1030.000000   \nmean                                  181.567282   \nstd                                    21.354219   \nmin                                   121.800000   \n25%                                   164.900000   \n50%                                   185.000000   \n75%                                   192.000000   \nmax                                   247.000000   \n\n       Superplasticizer (component 5)(kg in a m^3 mixture)  \\\ncount                                        1030.000000     \nmean                                            6.204660     \nstd                                             5.973841     \nmin                                             0.000000     \n25%                                             0.000000     \n50%                                             6.400000     \n75%                                            10.200000     \nmax                                            32.200000     \n\n       Coarse Aggregate  (component 6)(kg in a m^3 mixture)  \\\ncount                                        1030.000000      \nmean                                          972.918932      \nstd                                            77.753954      \nmin                                           801.000000      \n25%                                           932.000000      \n50%                                           968.000000      \n75%                                          1029.400000      \nmax                                          1145.000000      \n\n       Fine Aggregate (component 7)(kg in a m^3 mixture)    Age (day)  \\\ncount                                        1030.000000  1030.000000   \nmean                                          773.580485    45.662136   \nstd                                            80.175980    63.169912   \nmin                                           594.000000     1.000000   \n25%                                           730.950000     7.000000   \n50%                                           779.500000    28.000000   \n75%                                           824.000000    56.000000   \nmax                                           992.600000   365.000000   \n\n       Concrete compressive strength(MPa, megapascals)   \ncount                                       1030.000000  \nmean                                          35.817961  \nstd                                           16.705742  \nmin                                            2.330000  \n25%                                           23.710000  \n50%                                           34.445000  \n75%                                           46.135000  \nmax                                           82.600000  ",
      "text/html": "<div>\n<style scoped>\n    .dataframe tbody tr th:only-of-type {\n        vertical-align: middle;\n    }\n\n    .dataframe tbody tr th {\n        vertical-align: top;\n    }\n\n    .dataframe thead th {\n        text-align: right;\n    }\n</style>\n<table border=\"1\" class=\"dataframe\">\n  <thead>\n    <tr style=\"text-align: right;\">\n      <th></th>\n      <th>Cement (component 1)(kg in a m^3 mixture)</th>\n      <th>Blast Furnace Slag (component 2)(kg in a m^3 mixture)</th>\n      <th>Fly Ash (component 3)(kg in a m^3 mixture)</th>\n      <th>Water  (component 4)(kg in a m^3 mixture)</th>\n      <th>Superplasticizer (component 5)(kg in a m^3 mixture)</th>\n      <th>Coarse Aggregate  (component 6)(kg in a m^3 mixture)</th>\n      <th>Fine Aggregate (component 7)(kg in a m^3 mixture)</th>\n      <th>Age (day)</th>\n      <th>Concrete compressive strength(MPa, megapascals)</th>\n    </tr>\n  </thead>\n  <tbody>\n    <tr>\n      <th>count</th>\n      <td>1030.000000</td>\n      <td>1030.000000</td>\n      <td>1030.000000</td>\n      <td>1030.000000</td>\n      <td>1030.000000</td>\n      <td>1030.000000</td>\n      <td>1030.000000</td>\n      <td>1030.000000</td>\n      <td>1030.000000</td>\n    </tr>\n    <tr>\n      <th>mean</th>\n      <td>281.167864</td>\n      <td>73.895825</td>\n      <td>54.188350</td>\n      <td>181.567282</td>\n      <td>6.204660</td>\n      <td>972.918932</td>\n      <td>773.580485</td>\n      <td>45.662136</td>\n      <td>35.817961</td>\n    </tr>\n    <tr>\n      <th>std</th>\n      <td>104.506364</td>\n      <td>86.279342</td>\n      <td>63.997004</td>\n      <td>21.354219</td>\n      <td>5.973841</td>\n      <td>77.753954</td>\n      <td>80.175980</td>\n      <td>63.169912</td>\n      <td>16.705742</td>\n    </tr>\n    <tr>\n      <th>min</th>\n      <td>102.000000</td>\n      <td>0.000000</td>\n      <td>0.000000</td>\n      <td>121.800000</td>\n      <td>0.000000</td>\n      <td>801.000000</td>\n      <td>594.000000</td>\n      <td>1.000000</td>\n      <td>2.330000</td>\n    </tr>\n    <tr>\n      <th>25%</th>\n      <td>192.375000</td>\n      <td>0.000000</td>\n      <td>0.000000</td>\n      <td>164.900000</td>\n      <td>0.000000</td>\n      <td>932.000000</td>\n      <td>730.950000</td>\n      <td>7.000000</td>\n      <td>23.710000</td>\n    </tr>\n    <tr>\n      <th>50%</th>\n      <td>272.900000</td>\n      <td>22.000000</td>\n      <td>0.000000</td>\n      <td>185.000000</td>\n      <td>6.400000</td>\n      <td>968.000000</td>\n      <td>779.500000</td>\n      <td>28.000000</td>\n      <td>34.445000</td>\n    </tr>\n    <tr>\n      <th>75%</th>\n      <td>350.000000</td>\n      <td>142.950000</td>\n      <td>118.300000</td>\n      <td>192.000000</td>\n      <td>10.200000</td>\n      <td>1029.400000</td>\n      <td>824.000000</td>\n      <td>56.000000</td>\n      <td>46.135000</td>\n    </tr>\n    <tr>\n      <th>max</th>\n      <td>540.000000</td>\n      <td>359.400000</td>\n      <td>200.100000</td>\n      <td>247.000000</td>\n      <td>32.200000</td>\n      <td>1145.000000</td>\n      <td>992.600000</td>\n      <td>365.000000</td>\n      <td>82.600000</td>\n    </tr>\n  </tbody>\n</table>\n</div>"
     },
     "execution_count": 6,
     "metadata": {},
     "output_type": "execute_result"
    }
   ],
   "source": [
    "from sklearn.model_selection import train_test_split\n",
    "from sklearn.tree import DecisionTreeRegressor\n",
    "import matplotlib.pyplot as plt\n",
    "import numpy as np\n",
    "import pandas as pd\n",
    "import seaborn\n",
    "\n",
    "df = pd.read_csv('data/Concrete_Data.csv')\n",
    "df_training = pd.read_csv('data/train.csv')\n",
    "df_testing = pd.read_csv('data/test.csv')\n",
    "\n",
    "pd.isna(df).any()\n",
    "df.info()\n",
    "df.describe()\n",
    "#seaborn.pairplot(df)\n",
    "#plt.show()"
   ]
  },
  {
   "cell_type": "code",
   "execution_count": 6,
   "outputs": [],
   "source": [],
   "metadata": {
    "collapsed": false
   }
  }
 ],
 "metadata": {
  "kernelspec": {
   "display_name": "Python 3 (ipykernel)",
   "language": "python",
   "name": "python3"
  },
  "language_info": {
   "codemirror_mode": {
    "name": "ipython",
    "version": 3
   },
   "file_extension": ".py",
   "mimetype": "text/x-python",
   "name": "python",
   "nbconvert_exporter": "python",
   "pygments_lexer": "ipython3",
   "version": "3.9.13"
  }
 },
 "nbformat": 4,
 "nbformat_minor": 5
}
