{
 "cells": [
  {
   "cell_type": "code",
   "execution_count": 40,
   "id": "7eb156bc",
   "metadata": {
    "scrolled": false
   },
   "outputs": [
    {
     "data": {
      "text/plain": "Index(['Cement (component 1)(kg in a m^3 mixture)',\n       'Blast Furnace Slag (component 2)(kg in a m^3 mixture)',\n       'Fly Ash (component 3)(kg in a m^3 mixture)',\n       'Water  (component 4)(kg in a m^3 mixture)',\n       'Superplasticizer (component 5)(kg in a m^3 mixture)',\n       'Coarse Aggregate  (component 6)(kg in a m^3 mixture)',\n       'Fine Aggregate (component 7)(kg in a m^3 mixture)', 'Age (day)',\n       'Concrete compressive strength(MPa, megapascals) '],\n      dtype='object')"
     },
     "execution_count": 40,
     "metadata": {},
     "output_type": "execute_result"
    }
   ],
   "source": [
    "from sklearn.metrics import mean_absolute_error, mean_squared_error, r2_score, explained_variance_score, mean_absolute_percentage_error, mean_squared_log_error\n",
    "from sklearn.linear_model import LogisticRegression\n",
    "from sklearn.model_selection import train_test_split\n",
    "from sklearn import linear_model\n",
    "import numpy as np\n",
    "import pandas as pd\n",
    "\n",
    "df_raw = pd.read_csv('data/Concrete_Data.csv')\n",
    "df_raw.columns\n",
    "\n"
   ]
  },
  {
   "cell_type": "code",
   "execution_count": 41,
   "outputs": [],
   "source": [
    "# Select all independent variables.\n",
    "x = df_raw.iloc[:, :-1]\n",
    "# Select only the target variable.\n",
    "y = df_raw.iloc[:, -1]\n",
    "\n",
    "mlr_x_train, mlr_x_test, mlr_y_train, mlr_y_test = train_test_split(x, y,\n",
    "                                                   test_size= 0.2,\n",
    "                                                   shuffle= True, # Shuffle the data to avoid bias\n",
    "                                                   random_state= 50)"
   ],
   "metadata": {
    "collapsed": false
   }
  },
  {
   "cell_type": "code",
   "execution_count": 42,
   "outputs": [
    {
     "data": {
      "text/plain": "LinearRegression()"
     },
     "execution_count": 42,
     "metadata": {},
     "output_type": "execute_result"
    }
   ],
   "source": [
    "mlr_model = linear_model.LinearRegression()\n",
    "mlr_model.fit(mlr_x_train, mlr_y_train)"
   ],
   "metadata": {
    "collapsed": false
   }
  },
  {
   "cell_type": "code",
   "execution_count": 43,
   "outputs": [
    {
     "name": "stdout",
     "output_type": "stream",
     "text": [
      "Mean Absolute Error 7.9100408151230575\n",
      "Root Mean Squared Error 9.905342551450303\n",
      "Explained Variance Score 0.6360416556439641\n",
      "R2 Score 0.6359646484072214\n",
      "Mean Absolute Percentage Error 0.3338653542629698\n",
      "Mean Squared Log Error 0.12016603228350434\n"
     ]
    }
   ],
   "source": [
    "mlr_y_predicted =  mlr_model.predict(mlr_x_test)\n",
    "\n",
    "# Mean Absolute Error\n",
    "metric = mean_absolute_error(mlr_y_test, mlr_y_predicted)\n",
    "print(f'Mean Absolute Error {metric}')\n",
    "\n",
    "# Root Mean Squared Error\n",
    "metric = np.sqrt(mean_squared_error(mlr_y_test, mlr_y_predicted))\n",
    "print(f'Root Mean Squared Error {metric}')\n",
    "\n",
    "# Explained Variance Score\n",
    "metric = explained_variance_score(mlr_y_test, mlr_y_predicted)\n",
    "print(f'Explained Variance Score {metric}')\n",
    "\n",
    "# R2 score\n",
    "metric = r2_score(mlr_y_test, mlr_y_predicted)\n",
    "print(f'R2 Score {metric}')\n",
    "\n",
    "# Mean Absolute Percentage Error\n",
    "metric = mean_absolute_percentage_error(mlr_y_test, mlr_y_predicted)\n",
    "print(f'Mean Absolute Percentage Error {metric}')\n",
    "\n",
    "# Mean Squared Log Error\n",
    "metric = mean_squared_log_error(mlr_y_test, mlr_y_predicted)\n",
    "print(f'Mean Squared Log Error {metric}')"
   ],
   "metadata": {
    "collapsed": false
   }
  },
  {
   "cell_type": "markdown",
   "source": [],
   "metadata": {
    "collapsed": false
   }
  },
  {
   "cell_type": "code",
   "execution_count": 43,
   "outputs": [],
   "source": [],
   "metadata": {
    "collapsed": false
   }
  }
 ],
 "metadata": {
  "kernelspec": {
   "display_name": "Python 3 (ipykernel)",
   "language": "python",
   "name": "python3"
  },
  "language_info": {
   "codemirror_mode": {
    "name": "ipython",
    "version": 3
   },
   "file_extension": ".py",
   "mimetype": "text/x-python",
   "name": "python",
   "nbconvert_exporter": "python",
   "pygments_lexer": "ipython3",
   "version": "3.9.13"
  }
 },
 "nbformat": 4,
 "nbformat_minor": 5
}
