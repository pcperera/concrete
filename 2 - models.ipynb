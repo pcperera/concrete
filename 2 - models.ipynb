{
 "cells": [
  {
   "cell_type": "markdown",
   "source": [
    "# Loading and Preprocessing"
   ],
   "metadata": {
    "collapsed": false
   }
  },
  {
   "cell_type": "code",
   "execution_count": 50,
   "id": "7eb156bc",
   "metadata": {
    "scrolled": false
   },
   "outputs": [
    {
     "data": {
      "text/plain": "Index(['Cement (component 1)(kg in a m^3 mixture)',\n       'Blast Furnace Slag (component 2)(kg in a m^3 mixture)',\n       'Fly Ash (component 3)(kg in a m^3 mixture)',\n       'Water  (component 4)(kg in a m^3 mixture)',\n       'Superplasticizer (component 5)(kg in a m^3 mixture)',\n       'Coarse Aggregate  (component 6)(kg in a m^3 mixture)',\n       'Fine Aggregate (component 7)(kg in a m^3 mixture)', 'Age (day)',\n       'Concrete compressive strength(MPa, megapascals) '],\n      dtype='object')"
     },
     "execution_count": 50,
     "metadata": {},
     "output_type": "execute_result"
    }
   ],
   "source": [
    "import matplotlib.pyplot as plt\n",
    "import seaborn as sb\n",
    "from sklearn.decomposition import PCA\n",
    "from sklearn.metrics import mean_absolute_error, mean_squared_error, r2_score, explained_variance_score, mean_absolute_percentage_error, mean_squared_log_error\n",
    "from sklearn.linear_model import LinearRegression\n",
    "from sklearn.neighbors import KNeighborsRegressor\n",
    "from sklearn.tree import DecisionTreeRegressor\n",
    "from sklearn.model_selection import train_test_split, cross_val_score\n",
    "import numpy as np\n",
    "import pandas as pd\n",
    "\n",
    "\n",
    "df_raw = pd.read_csv('data/Concrete_Data.csv')\n",
    "df_raw.columns\n"
   ]
  },
  {
   "cell_type": "code",
   "execution_count": 51,
   "outputs": [],
   "source": [
    "df = df_raw.rename(columns={'Cement (component 1)(kg in a m^3 mixture)': 'Cement (kg/m³)',\n",
    "                            'Blast Furnace Slag (component 2)(kg in a m^3 mixture)': 'Blast Furnace Slag (kg/m³)',\n",
    "                            'Fly Ash (component 3)(kg in a m^3 mixture)': 'Fly Ash (kg/m³)',\n",
    "                            'Water  (component 4)(kg in a m^3 mixture)': 'Water (kg/m³)',\n",
    "                            'Superplasticizer (component 5)(kg in a m^3 mixture)': 'Superplasticizer (kg/m³)',\n",
    "                            'Coarse Aggregate  (component 6)(kg in a m^3 mixture)': 'Coarse Aggregate (kg/m³)',\n",
    "                            'Fine Aggregate (component 7)(kg in a m^3 mixture)': 'Fine Aggregate (kg/m³)',\n",
    "                            'Concrete compressive strength(MPa, megapascals) ': 'Compressive Strength (MPa)'})"
   ],
   "metadata": {
    "collapsed": false
   }
  },
  {
   "cell_type": "markdown",
   "source": [
    "# Methodology"
   ],
   "metadata": {
    "collapsed": false
   }
  },
  {
   "cell_type": "markdown",
   "source": [
    "## PCA"
   ],
   "metadata": {
    "collapsed": false
   }
  },
  {
   "cell_type": "code",
   "execution_count": 52,
   "outputs": [
    {
     "name": "stdout",
     "output_type": "stream",
     "text": [
      "[[ 0.04132675  0.16304274 -0.36989956  0.56402186 -0.53601839  0.06027386\n",
      "  -0.38176315  0.26194127 -0.10704127]\n",
      " [ 0.53648595  0.1361477  -0.26827048 -0.11845773  0.24824875 -0.22476104\n",
      "  -0.18686019  0.25176813  0.63023524]]\n"
     ]
    }
   ],
   "source": [
    "# In the descriptive analysis phase we found that some independent variable exhibit multi-colliniearity.\n",
    "\n",
    "# Standardize the data\n",
    "data_standardized = (df - df.mean()) / df.std()\n",
    "\n",
    "# Compute the covariance matrix\n",
    "covariance_matrix = data_standardized.cov()\n",
    "\n",
    "# Compute the eigenvectors and eigenvalues of the covariance matrix\n",
    "eigenvalues, eigenvectors = np.linalg.eig(covariance_matrix)\n",
    "\n",
    "# Choose the number of principal components to retain\n",
    "n_components = 2\n",
    "\n",
    "# Transform the data\n",
    "pca = PCA(n_components=n_components)\n",
    "principal_components = pca.fit_transform(data_standardized)\n",
    "print(pca.components_)"
   ],
   "metadata": {
    "collapsed": false
   }
  },
  {
   "cell_type": "code",
   "execution_count": 53,
   "outputs": [],
   "source": [
    "# Select all independent variables.\n",
    "X = df.iloc[:, :-1]\n",
    "# Select only the target variable.\n",
    "y = df.iloc[:, -1]\n",
    "\n",
    "X_train, X_test, y_train, y_test = train_test_split(X, y,\n",
    "                                                    test_size= 0.2,\n",
    "                                                    shuffle= True, # Shuffle the data to avoid bias\n",
    "                                                    random_state= 50)"
   ],
   "metadata": {
    "collapsed": false
   }
  },
  {
   "cell_type": "markdown",
   "source": [
    "## Models"
   ],
   "metadata": {
    "collapsed": false
   }
  },
  {
   "cell_type": "markdown",
   "source": [
    "### Multiple Linear Regression"
   ],
   "metadata": {
    "collapsed": false
   }
  },
  {
   "cell_type": "code",
   "execution_count": 54,
   "outputs": [
    {
     "data": {
      "text/plain": "LinearRegression()"
     },
     "execution_count": 54,
     "metadata": {},
     "output_type": "execute_result"
    }
   ],
   "source": [
    "mlr_model = LinearRegression()\n",
    "mlr_model.fit(X_train, y_train)"
   ],
   "metadata": {
    "collapsed": false
   }
  },
  {
   "cell_type": "code",
   "execution_count": 55,
   "outputs": [
    {
     "name": "stdout",
     "output_type": "stream",
     "text": [
      "Mean Absolute Error 7.9100408151230575\n",
      "Mean Absolute Percentage Error 0.3338653542629698\n",
      "Mean Squared Error 98.115811061572\n",
      "Mean Squared Log Error 0.12016603228350434\n",
      "Root Mean Squared Error 9.905342551450303\n",
      "Explained Variance Score 0.6360416556439641\n",
      "R Squared Score 0.6359646484072214\n"
     ]
    }
   ],
   "source": [
    "mlr_y_predicted =  mlr_model.predict(X_test)\n",
    "\n",
    "# Mean Absolute Error\n",
    "mlr_metric_mae = mean_absolute_error(y_test, mlr_y_predicted)\n",
    "print(f'Mean Absolute Error {mlr_metric_mae}')\n",
    "\n",
    "# Mean Absolute Percentage Error\n",
    "mlr_metric_mape = mean_absolute_percentage_error(y_test, mlr_y_predicted)\n",
    "print(f'Mean Absolute Percentage Error {mlr_metric_mape}')\n",
    "\n",
    "# Mean Squared Error\n",
    "mlr_metric_mse = mean_squared_error(y_test, mlr_y_predicted)\n",
    "print(f'Mean Squared Error {mlr_metric_mse}')\n",
    "\n",
    "# Mean Squared Log Error\n",
    "mlr_metric_msle = mean_squared_log_error(y_test, mlr_y_predicted)\n",
    "print(f'Mean Squared Log Error {mlr_metric_msle}')\n",
    "\n",
    "# Root Mean Squared Error\n",
    "mlr_metric_rmse = np.sqrt(mean_squared_error(y_test, mlr_y_predicted))\n",
    "print(f'Root Mean Squared Error {mlr_metric_rmse}')\n",
    "\n",
    "# Explained Variance Score\n",
    "mlr_metric_evs = explained_variance_score(y_test, mlr_y_predicted)\n",
    "print(f'Explained Variance Score {mlr_metric_evs}')\n",
    "\n",
    "# R2 score\n",
    "mlr_metric_r2 = r2_score(y_test, mlr_y_predicted)\n",
    "print(f'R Squared Score {mlr_metric_r2}')\n"
   ],
   "metadata": {
    "collapsed": false
   }
  },
  {
   "cell_type": "markdown",
   "source": [],
   "metadata": {
    "collapsed": false
   }
  },
  {
   "cell_type": "code",
   "execution_count": 56,
   "outputs": [
    {
     "name": "stdout",
     "output_type": "stream",
     "text": [
      "-8.588336120681141\n",
      "[ 0.11435239  0.09812924  0.07706773 -0.16950172  0.31739452  0.01450578\n",
      "  0.01343895  0.11158763]\n"
     ]
    }
   ],
   "source": [
    "print(mlr_model.intercept_)\n",
    "print(mlr_model.coef_)"
   ],
   "metadata": {
    "collapsed": false
   }
  },
  {
   "cell_type": "markdown",
   "source": [
    "### Decision Tree Regression (Regression Tree)"
   ],
   "metadata": {
    "collapsed": false
   }
  },
  {
   "cell_type": "code",
   "execution_count": 57,
   "outputs": [
    {
     "data": {
      "text/plain": "DecisionTreeRegressor(max_depth=10, min_samples_leaf=3)"
     },
     "execution_count": 57,
     "metadata": {},
     "output_type": "execute_result"
    }
   ],
   "source": [
    "regression_model = DecisionTreeRegressor(criterion=\"squared_error\", min_samples_leaf=3, max_depth=10)\n",
    "regression_model.fit(X_train, y_train)"
   ],
   "metadata": {
    "collapsed": false
   }
  },
  {
   "cell_type": "code",
   "execution_count": 58,
   "outputs": [
    {
     "name": "stdout",
     "output_type": "stream",
     "text": [
      "Mean Absolute Error 5.085982844724168\n",
      "Mean Absolute Percentage Error 0.18786076392638526\n",
      "Mean Squared Error 45.97716787147342\n",
      "Mean Squared Log Error 0.05434358657905033\n",
      "Root Mean Squared Error 6.780646567361657\n",
      "Explained Variance Score 0.8302860332341978\n",
      "R Squared Score 0.8294126676399931\n"
     ]
    }
   ],
   "source": [
    "dtr_y_predicted = regression_model.predict(X_test)\n",
    "\n",
    "# Mean Absolute Error\n",
    "dtr_metric_mae = mean_absolute_error(y_test, dtr_y_predicted)\n",
    "print(f'Mean Absolute Error {dtr_metric_mae}')\n",
    "\n",
    "# Mean Absolute Percentage Error\n",
    "dtr_metric_mape = mean_absolute_percentage_error(y_test, dtr_y_predicted)\n",
    "print(f'Mean Absolute Percentage Error {dtr_metric_mape}')\n",
    "\n",
    "# Mean Squared Error\n",
    "dtr_metric_mse = mean_squared_error(y_test, dtr_y_predicted)\n",
    "print(f'Mean Squared Error {dtr_metric_mse}')\n",
    "\n",
    "# Mean Squared Log Error\n",
    "dtr_metric_msle = mean_squared_log_error(y_test, dtr_y_predicted)\n",
    "print(f'Mean Squared Log Error {dtr_metric_msle}')\n",
    "\n",
    "# Root Mean Squared Error\n",
    "dtr_metric_rmse = np.sqrt(mean_squared_error(y_test, dtr_y_predicted))\n",
    "print(f'Root Mean Squared Error {dtr_metric_rmse}')\n",
    "\n",
    "# Explained Variance Score\n",
    "dtr_metric_evs = explained_variance_score(y_test, dtr_y_predicted)\n",
    "print(f'Explained Variance Score {dtr_metric_evs}')\n",
    "\n",
    "# R2 score\n",
    "dtr_metric_r2 = r2_score(y_test, dtr_y_predicted)\n",
    "print(f'R Squared Score {dtr_metric_r2}')\n"
   ],
   "metadata": {
    "collapsed": false
   }
  },
  {
   "cell_type": "markdown",
   "source": [],
   "metadata": {
    "collapsed": false
   }
  },
  {
   "cell_type": "markdown",
   "source": [
    "###  K-Nearest Neighbors (KNN)"
   ],
   "metadata": {
    "collapsed": false
   }
  },
  {
   "cell_type": "code",
   "execution_count": 59,
   "outputs": [
    {
     "name": "stdout",
     "output_type": "stream",
     "text": [
      "Optimal hyperparameter k 3\n"
     ]
    },
    {
     "data": {
      "text/plain": "<Figure size 640x480 with 0 Axes>"
     },
     "metadata": {},
     "output_type": "display_data"
    },
    {
     "data": {
      "text/plain": "<Figure size 1500x1000 with 1 Axes>",
      "image/png": "[encoded data removed]"
     },
     "metadata": {},
     "output_type": "display_data"
    }
   ],
   "source": [
    "# Creating list of K for KNN\n",
    "k_list = list(range(1, 20))\n",
    "# Creating list of cv scores, based on 'neg_mean_squared_error'\n",
    "knn_mse_cv_scores = []\n",
    "\n",
    "# perform 5-fold cross validation\n",
    "for k in k_list:\n",
    "    knn = KNeighborsRegressor(n_neighbors=k)\n",
    "    scores = cross_val_score(knn, X_train, y_train, cv=5, scoring='neg_mean_squared_error')\n",
    "    knn_mse_cv_scores.append(scores.mean())\n",
    "\n",
    "knn_cv_mse = [1 - x for x in knn_mse_cv_scores]\n",
    "print(f'Optimal hyperparameter k {np.argmin(knn_cv_mse) + 1}') # +1 is because array index is 0 based\n",
    "\n",
    "plt.figure()\n",
    "plt.figure(figsize=(15,10))\n",
    "plt.title('Optimal Number of Neighbors', fontsize=20, fontweight='bold')\n",
    "plt.xlabel('Number of Neighbors K', fontsize=15)\n",
    "plt.ylabel('Regression MSE', fontsize=15)\n",
    "sb.set_style(\"whitegrid\")\n",
    "plt.plot(k_list, knn_cv_mse)\n",
    "\n",
    "plt.show()\n"
   ],
   "metadata": {
    "collapsed": false
   }
  },
  {
   "cell_type": "code",
   "execution_count": 60,
   "outputs": [
    {
     "data": {
      "text/plain": "KNeighborsRegressor(n_neighbors=3)"
     },
     "execution_count": 60,
     "metadata": {},
     "output_type": "execute_result"
    }
   ],
   "source": [
    "knn = KNeighborsRegressor(n_neighbors=3)\n",
    "\n",
    "# Fit the model on the training data\n",
    "knn.fit(X_train, y_train)"
   ],
   "metadata": {
    "collapsed": false
   }
  },
  {
   "cell_type": "code",
   "execution_count": 61,
   "outputs": [
    {
     "name": "stdout",
     "output_type": "stream",
     "text": [
      "Mean Absolute Error 6.781504854368932\n",
      "Mean Absolute Percentage Error 0.29333246627467285\n",
      "Mean Squared Error 81.49366370010787\n",
      "Mean Squared Log Error 0.11228844870844386\n",
      "Root Mean Squared Error 9.027384100618953\n",
      "Explained Variance Score 0.7043400833784348\n",
      "R Squared Score 0.6976371677849624\n"
     ]
    }
   ],
   "source": [
    "knn_y_predicted = knn.predict(X_test)\n",
    "\n",
    "# Mean Absolute Error\n",
    "knn_metric_mae = mean_absolute_error(y_test, knn_y_predicted)\n",
    "print(f'Mean Absolute Error {knn_metric_mae}')\n",
    "\n",
    "# Mean Absolute Percentage Error\n",
    "knn_metric_mape = mean_absolute_percentage_error(y_test, knn_y_predicted)\n",
    "print(f'Mean Absolute Percentage Error {knn_metric_mape}')\n",
    "\n",
    "# Mean Squared Error\n",
    "knn_metric_mse = mean_squared_error(y_test, knn_y_predicted)\n",
    "print(f'Mean Squared Error {knn_metric_mse}')\n",
    "\n",
    "# Mean Squared Log Error\n",
    "knn_metric_msle = mean_squared_log_error(y_test, knn_y_predicted)\n",
    "print(f'Mean Squared Log Error {knn_metric_msle}')\n",
    "\n",
    "# Root Mean Squared Error\n",
    "knn_metric_rmse = np.sqrt(mean_squared_error(y_test, knn_y_predicted))\n",
    "print(f'Root Mean Squared Error {knn_metric_rmse}')\n",
    "\n",
    "# Explained Variance Score\n",
    "knn_metric_evs = explained_variance_score(y_test, knn_y_predicted)\n",
    "print(f'Explained Variance Score {knn_metric_evs}')\n",
    "\n",
    "# R2 score\n",
    "knn_metric_r2 = r2_score(y_test, knn_y_predicted)\n",
    "print(f'R Squared Score {knn_metric_r2}')"
   ],
   "metadata": {
    "collapsed": false
   }
  },
  {
   "cell_type": "code",
   "execution_count": 62,
   "outputs": [
    {
     "name": "stdout",
     "output_type": "stream",
     "text": [
      "                                      MLR        DTR        KNN\n",
      "Mean Absolute Error              7.910041   5.085983   6.781505\n",
      "Mean Absolute Percentage Error   0.333865   0.187861   0.293332\n",
      "Mean Squared Error              98.115811  45.977168  81.493664\n",
      "Mean Squared Log Error           0.120166   0.054344   0.112288\n",
      "Root Mean Squared Error          9.905343   6.780647   9.027384\n",
      "Explained Variance Score         0.636042   0.830286   0.704340\n",
      "R Squared Score                  0.635965   0.829413   0.697637\n"
     ]
    }
   ],
   "source": [
    "results = {\n",
    "    'MLR': [mlr_metric_mae, mlr_metric_mape, mlr_metric_mse, mlr_metric_msle, mlr_metric_rmse, mlr_metric_evs, mlr_metric_r2],\n",
    "    'DTR': [dtr_metric_mae, dtr_metric_mape, dtr_metric_mse, dtr_metric_msle, dtr_metric_rmse, dtr_metric_evs, dtr_metric_r2],\n",
    "    'KNN': [knn_metric_mae, knn_metric_mape, knn_metric_mse, knn_metric_msle, knn_metric_rmse, knn_metric_evs, knn_metric_r2]}\n",
    "\n",
    "results_df = pd.DataFrame(results).set_axis(\n",
    "    ['Mean Absolute Error', 'Mean Absolute Percentage Error', 'Mean Squared Error', 'Mean Squared Log Error',\n",
    "     'Root Mean Squared Error', 'Explained Variance Score', 'R Squared Score'])\n",
    "\n",
    "print(results_df)"
   ],
   "metadata": {
    "collapsed": false
   }
  }
 ],
 "metadata": {
  "kernelspec": {
   "display_name": "Python 3 (ipykernel)",
   "language": "python",
   "name": "python3"
  },
  "language_info": {
   "codemirror_mode": {
    "name": "ipython",
    "version": 3
   },
   "file_extension": ".py",
   "mimetype": "text/x-python",
   "name": "python",
   "nbconvert_exporter": "python",
   "pygments_lexer": "ipython3",
   "version": "3.9.13"
  }
 },
 "nbformat": 4,
 "nbformat_minor": 5
}
